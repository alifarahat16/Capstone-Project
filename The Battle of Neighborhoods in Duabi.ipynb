{
    "cells": [
        {
            "cell_type": "markdown",
            "metadata": {},
            "source": "# Capstone Project: The Battle of Neighborhoods in Dubai"
        },
        {
            "cell_type": "markdown",
            "metadata": {
                "collapsed": true
            },
            "source": "# 1. Introduction"
        },
        {
            "cell_type": "markdown",
            "metadata": {},
            "source": "### 1.1. Business Problem:"
        },
        {
            "cell_type": "markdown",
            "metadata": {},
            "source": "Expo 2020 Dubai is a World Expo that\u2019s going to be hosted by Dubai in the United Arab Emirates. \nA World Expo is a mega international event in terms of size, scale, and duration and visitor numbers.\nIt\u2019s a festival and a platform where people from all over the world come together and connect with each other,\nshare ideas, learn and innovate. It\u2019s also a place you can come and have fun.\nExpo 2020 was scheduled on 20 October 2020 \u2013 10 April 2021. and due to the COVID-19, \nthe new schedule is 1 October 2021 \u2013 31 March 2022.\nThe staging of the world fair and the preparations leading up to it are expected to result an injection of nearly $40 billion into the economy, \nand an increase in visitors of at least 25 million persons from in and out UAE.\n\n"
        },
        {
            "cell_type": "markdown",
            "metadata": {},
            "source": "### 1.2. Target Audience:"
        },
        {
            "cell_type": "markdown",
            "metadata": {},
            "source": "The dataset of Dubai has been used to help the visitors, investors and the job seekers to find suitable places such as restaurants, hotels, apartments, GYM's and so on."
        },
        {
            "cell_type": "markdown",
            "metadata": {},
            "source": "# 2. Data Description "
        },
        {
            "cell_type": "markdown",
            "metadata": {},
            "source": "Using machine learning algorithms and web scraping, the information about the neighborhoods in Dubai as well as the average rents apartment prices was gathered in a dataframe. The Geocoder Python package was used to retrieve the latitudes and longitudes of each borough. After some modifications, this information was used as input for the Foursquare API to get the availability and information of venues in the respective neighborhoods.\nThis information is gathered through web scraping from this webpage: https://en.wikipedia.org/wiki/List_of_communities_in_Dubai\n"
        },
        {
            "cell_type": "code",
            "execution_count": null,
            "metadata": {},
            "outputs": [],
            "source": " "
        },
        {
            "cell_type": "code",
            "execution_count": null,
            "metadata": {},
            "outputs": [],
            "source": ""
        }
    ],
    "metadata": {
        "kernelspec": {
            "display_name": "Python 3.8",
            "language": "python",
            "name": "python3"
        },
        "language_info": {
            "codemirror_mode": {
                "name": "ipython",
                "version": 3
            },
            "file_extension": ".py",
            "mimetype": "text/x-python",
            "name": "python",
            "nbconvert_exporter": "python",
            "pygments_lexer": "ipython3",
            "version": "3.8.10"
        }
    },
    "nbformat": 4,
    "nbformat_minor": 1
}